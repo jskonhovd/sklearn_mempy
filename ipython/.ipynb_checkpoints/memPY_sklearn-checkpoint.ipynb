{
 "metadata": {
  "name": ""
 },
 "nbformat": 3,
 "nbformat_minor": 0,
 "worksheets": [
  {
   "cells": [
    {
     "cell_type": "markdown",
     "metadata": {},
     "source": [
      "#MEMpy - Introduction to Machine Learning\n"
     ]
    },
    {
     "cell_type": "markdown",
     "metadata": {},
     "source": [
      "DTrees"
     ]
    },
    {
     "cell_type": "code",
     "collapsed": false,
     "input": [
      "%pylab inline"
     ],
     "language": "python",
     "metadata": {},
     "outputs": [],
     "prompt_number": "*"
    },
    {
     "cell_type": "code",
     "collapsed": false,
     "input": [
      "def plotDTrees(X,y):        \n",
      "\n",
      "    # Shuffle\n",
      "    idx = np.arange(X.shape[0])\n",
      "    np.random.seed(13)\n",
      "    np.random.shuffle(idx)\n",
      "    X = X[idx]\n",
      "    y = y[idx]\n",
      "    \n",
      "    n_classes = 3\n",
      "    plot_colors = \"bry\"\n",
      "    plot_step = 0.02\n",
      "    \n",
      "    # Standardize\n",
      "    mean = X.mean(axis=0)\n",
      "    std = X.std(axis=0)\n",
      "    X = (X - mean) / std\n",
      "    \n",
      "    # Train\n",
      "    clf = DecisionTreeClassifier().fit(X, y)\n",
      "    \n",
      "    # Plot the decision boundary\n",
      "    #pl.subplot(2, 3, pairidx + 1)\n",
      "    \n",
      "    x_min, x_max = X[:, 0].min() - 1, X[:, 0].max() + 1\n",
      "    y_min, y_max = X[:, 1].min() - 1, X[:, 1].max() + 1\n",
      "    xx, yy = np.meshgrid(np.arange(x_min, x_max, plot_step),\n",
      "                         np.arange(y_min, y_max, plot_step))\n",
      "    \n",
      "    Z = clf.predict(np.c_[xx.ravel(), yy.ravel()])\n",
      "    Z = Z.reshape(xx.shape)\n",
      "    cs = pl.contourf(xx, yy, Z, cmap=pl.cm.Paired)\n",
      "    \n",
      "    pl.xlabel(iris.feature_names[pair[0]])\n",
      "    pl.ylabel(iris.feature_names[pair[1]])\n",
      "    pl.axis(\"tight\")\n",
      "    \n",
      "    # Plot the training points\n",
      "    for i, color in zip(range(n_classes), plot_colors):\n",
      "        idx = np.where(y == i)\n",
      "        pl.scatter(X[idx, 0], X[idx, 1], c=color, label=iris.target_names[i],\n",
      "                   cmap=pl.cm.Paired)\n",
      "    \n",
      "    pl.axis(\"tight\")\n",
      "    pl.suptitle(\"Decision surface of a decision tree using paired features\")\n",
      "    pl.legend()\n",
      "    pl.show()\n",
      "    "
     ],
     "language": "python",
     "metadata": {},
     "outputs": [],
     "prompt_number": "*"
    },
    {
     "cell_type": "code",
     "collapsed": false,
     "input": [
      "import numpy as np\n",
      "import pylab as pl\n",
      "\n",
      "from sklearn.datasets import load_iris\n",
      "from sklearn.tree import DecisionTreeClassifier\n",
      "\n",
      "# Parameters\n",
      "\n",
      "\n",
      "# Load data\n",
      "iris = load_iris()\n",
      "X = iris.data[:, [1, 2]]\n",
      "y = iris.target\n",
      "\n",
      "plotDTrees(X, y)\n",
      "    "
     ],
     "language": "python",
     "metadata": {},
     "outputs": [],
     "prompt_number": "*"
    },
    {
     "cell_type": "code",
     "collapsed": false,
     "input": [],
     "language": "python",
     "metadata": {},
     "outputs": []
    }
   ],
   "metadata": {}
  }
 ]
}